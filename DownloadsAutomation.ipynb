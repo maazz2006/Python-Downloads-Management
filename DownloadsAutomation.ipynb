{
 "cells": [
  {
   "cell_type": "code",
   "execution_count": 1,
   "id": "b0d0f7b8",
   "metadata": {},
   "outputs": [],
   "source": [
    "import os"
   ]
  },
  {
   "cell_type": "code",
   "execution_count": 2,
   "id": "ede32dcc",
   "metadata": {},
   "outputs": [],
   "source": [
    "source_directory='/home/maaz-ahmed/Downloads/'\n",
    "from pathlib import Path\n",
    "import shutil\n",
    "source_images=Path(source_directory+\"DownloadedPictures/\")\n",
    "source_Packages=Path(source_directory+\"DownloadedPackages/\")\n",
    "source_Documents=Path(source_directory+\"DownloadedDocuments/\")\n",
    "source_Notebooks=Path(source_directory+\"DownloadedNotebooks/\")\n",
    "source_WindowsFiles=Path(source_directory+\"DownloadedWindowsFiles/\")\n",
    "\n",
    "\n"
   ]
  },
  {
   "cell_type": "code",
   "execution_count": 3,
   "id": "aa2e422c",
   "metadata": {},
   "outputs": [
    {
     "name": "stdout",
     "output_type": "stream",
     "text": [
      "[Errno 17] File exists: '/home/maaz-ahmed/Downloads/DownloadedPackages'\n"
     ]
    }
   ],
   "source": [
    "import os\n",
    "\n",
    "with os.scandir(source_directory) as entries:\n",
    "    for entry in entries:\n",
    "        #print(entry.name[-3:])\n",
    "        if(entry.name[-3:]==\"jpg\" or entry.name[-4:]==\"jpeg\"):\n",
    "            try:\n",
    "                source_images.mkdir()\n",
    "            except FileExistsError as exc:\n",
    "                print(exc)\n",
    "            shutil.move(source_directory+entry.name,source_images)\n",
    "        if(entry.name[-3:]==\"deb\"):\n",
    "            try:\n",
    "                source_Packages.mkdir()\n",
    "            except FileExistsError as exc:\n",
    "                print(exc)\n",
    "            shutil.move(source_directory+entry.name,source_Packages)\n",
    "        if(entry.name[-3:]==\"pdf\" or entry.name[-4:]==\"docx\" or entry.name[-3:]==\"odt\"):\n",
    "            try:\n",
    "                source_Documents.mkdir()\n",
    "            except FileExistsError as exc:\n",
    "                print(exc)\n",
    "            shutil.move(source_directory+entry.name,source_Documents)\n",
    "        if(entry.name[-3:]==\"zip\" ):\n",
    "            try:\n",
    "                source_Archives.mkdir()\n",
    "            except FileExistsError as exc:\n",
    "                print(exc)\n",
    "            shutil.move(source_directory+entry.name,source_Archives)\n",
    "        if(entry.name[-5:]==\"ipynb\" ):\n",
    "            try:\n",
    "                source_Notebooks.mkdir()\n",
    "            except FileExistsError as exc:\n",
    "                print(exc)\n",
    "            shutil.move(source_directory+entry.name,source_Notebooks)\n",
    "        if(entry.name[-3:]==\"exe\" ):\n",
    "            try:\n",
    "                source_WindowsFiles.mkdir()\n",
    "            except FileExistsError as exc:\n",
    "                print(exc)\n",
    "            shutil.move(source_directory+entry.name,source_WindowsFiles)"
   ]
  },
  {
   "cell_type": "code",
   "execution_count": null,
   "id": "7b85da17",
   "metadata": {},
   "outputs": [],
   "source": []
  }
 ],
 "metadata": {
  "kernelspec": {
   "display_name": "Python 3 (ipykernel)",
   "language": "python",
   "name": "python3"
  },
  "language_info": {
   "codemirror_mode": {
    "name": "ipython",
    "version": 3
   },
   "file_extension": ".py",
   "mimetype": "text/x-python",
   "name": "python",
   "nbconvert_exporter": "python",
   "pygments_lexer": "ipython3",
   "version": "3.10.4"
  }
 },
 "nbformat": 4,
 "nbformat_minor": 5
}
